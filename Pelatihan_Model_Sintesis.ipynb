{
  "nbformat": 4,
  "nbformat_minor": 0,
  "metadata": {
    "colab": {
      "provenance": []
    },
    "kernelspec": {
      "name": "python3",
      "display_name": "Python 3"
    },
    "language_info": {
      "name": "python"
    }
  },
  "cells": [
    {
      "cell_type": "markdown",
      "source": [
        "**Pelatihan Model**"
      ],
      "metadata": {
        "id": "G9aG9iy0Aoyl"
      }
    },
    {
      "cell_type": "code",
      "source": [
        "# Import libraries yang diperlukan\n",
        "import pandas as pd\n",
        "import numpy as np\n",
        "import matplotlib.pyplot as plt\n",
        "from sklearn.model_selection import train_test_split\n",
        "from sklearn.preprocessing import StandardScaler\n",
        "from tensorflow.keras.models import Sequential\n",
        "from tensorflow.keras.layers import Dense\n",
        "from tensorflow.keras.optimizers import Adam\n",
        "from tensorflow.keras.callbacks import EarlyStopping\n",
        "from sklearn.metrics import confusion_matrix, classification_report, ConfusionMatrixDisplay\n",
        "from tensorflow.keras.utils import to_categorical"
      ],
      "metadata": {
        "id": "HlzZiiqHtKbj"
      },
      "execution_count": null,
      "outputs": []
    },
    {
      "cell_type": "code",
      "source": [
        "# Fungsi untuk mendapatkan label dari nama file\n",
        "def get_label_from_filename(file_path):\n",
        "    if 'rifampisin' in file_path.lower():\n",
        "        return 0\n",
        "    elif 'digoxin' in file_path.lower():\n",
        "        return 1\n",
        "    elif 'ctm' in file_path.lower():\n",
        "        return 2\n",
        "    elif 'simvastatin' in file_path.lower():\n",
        "        return 3\n",
        "    elif 'diclofenac_sodium' in file_path.lower():\n",
        "        return 4\n",
        "    else:\n",
        "        raise ValueError(f\"Unknown pollutant in file: {file_path}\")\n",
        "\n",
        "# Fungsi untuk memuat dan pra-proses data\n",
        "def load_and_preprocess_data(file_path, selected_wavelengths):\n",
        "    df = pd.read_excel(file_path)\n",
        "\n",
        "    # Mengambil kolom panjang gelombang\n",
        "    wavelengths = df['Wavelength'].values\n",
        "\n",
        "    # Memilih indeks kolom berdasarkan panjang gelombang yang dipilih\n",
        "    selected_indices = [np.argmin(np.abs(wavelengths - w)) for w in selected_wavelengths]\n",
        "\n",
        "    # Memilih data spektrum (pastikan kolom yang diambil benar)\n",
        "    X = df.iloc[:, 1:].values.T\n",
        "    X = X[:, selected_indices]\n",
        "\n",
        "    # Membuat label\n",
        "    y = np.full(X.shape[0], get_label_from_filename(file_path))\n",
        "\n",
        "    return X, y"
      ],
      "metadata": {
        "id": "9Ck-b-iy2O9x"
      },
      "execution_count": null,
      "outputs": []
    },
    {
      "cell_type": "code",
      "source": [
        "# Memuat data untuk berbagai polutan obat\n",
        "file_paths = [\n",
        "    '/content/spectrum_rifampisin.xlsx',\n",
        "    '/content/spectrum_digoxin.xlsx',\n",
        "    '/content/spectrum_ctm.xlsx',\n",
        "    '/content/spectrum_simvastatin.xlsx',\n",
        "    '/content/spectrum_diclofenac_sodium.xlsx'\n",
        "]"
      ],
      "metadata": {
        "id": "E2cRrM0N2ojl"
      },
      "execution_count": null,
      "outputs": []
    },
    {
      "cell_type": "code",
      "source": [
        "# Tentukan panjang gelombang yang ingin digunakan\n",
        "selected_wavelengths = [400, 470, 511, 530, 611, 670]\n",
        "\n",
        "X_list = []\n",
        "y_list = []\n",
        "\n",
        "for path in file_paths:\n",
        "    X_temp, y_temp = load_and_preprocess_data(path, selected_wavelengths)\n",
        "    X_list.append(X_temp)\n",
        "    y_list.append(y_temp)"
      ],
      "metadata": {
        "id": "iil2Dpus2vGC"
      },
      "execution_count": null,
      "outputs": []
    },
    {
      "cell_type": "code",
      "source": [
        "# Menggabungkan semua data\n",
        "X = np.vstack(X_list)\n",
        "y = np.hstack(y_list)\n",
        "print(\"Shape of combined X:\", X.shape)\n",
        "print(\"Shape of combined y:\", y.shape)"
      ],
      "metadata": {
        "colab": {
          "base_uri": "https://localhost:8080/"
        },
        "id": "8J4fHlrI2zec",
        "outputId": "9b662941-2d36-4861-caa7-b06a7786431f"
      },
      "execution_count": null,
      "outputs": [
        {
          "output_type": "stream",
          "name": "stdout",
          "text": [
            "Shape of combined X: (5000, 6)\n",
            "Shape of combined y: (5000,)\n"
          ]
        }
      ]
    },
    {
      "cell_type": "code",
      "source": [
        "# Membagi data menjadi set pelatihan dan pengujian\n",
        "X_train, X_test, y_train, y_test = train_test_split(X, y, test_size=0.2, random_state=42)"
      ],
      "metadata": {
        "id": "NxdlpahiwHtA"
      },
      "execution_count": null,
      "outputs": []
    },
    {
      "cell_type": "code",
      "source": [
        "# Melakukan standardisasi data\n",
        "scaler = StandardScaler()\n",
        "X_train_scaled = scaler.fit_transform(X_train)\n",
        "X_test_scaled = scaler.transform(X_test)"
      ],
      "metadata": {
        "id": "Hq0BlWGY3CQw"
      },
      "execution_count": null,
      "outputs": []
    },
    {
      "cell_type": "code",
      "source": [
        "# One-hot encoding untuk label\n",
        "y_train_encoded = to_categorical(y_train)\n",
        "y_test_encoded = to_categorical(y_test)"
      ],
      "metadata": {
        "id": "4ZBL8tRsv3-C"
      },
      "execution_count": null,
      "outputs": []
    },
    {
      "cell_type": "code",
      "source": [
        "# Membuat model JST\n",
        "model = Sequential([\n",
        "    Dense(12, activation='relu', input_shape=(len(selected_wavelengths),)),\n",
        "    Dense(5, activation='softmax')  # 5 output neurons for 5 classes\n",
        "])\n",
        "model.summary()"
      ],
      "metadata": {
        "colab": {
          "base_uri": "https://localhost:8080/"
        },
        "id": "0oLSnOe10bhn",
        "outputId": "21f1f895-1b95-4b8a-aabd-54a1a7e06cd0"
      },
      "execution_count": null,
      "outputs": [
        {
          "output_type": "stream",
          "name": "stdout",
          "text": [
            "Model: \"sequential\"\n",
            "_________________________________________________________________\n",
            " Layer (type)                Output Shape              Param #   \n",
            "=================================================================\n",
            " dense (Dense)               (None, 12)                84        \n",
            "                                                                 \n",
            " dense_1 (Dense)             (None, 5)                 65        \n",
            "                                                                 \n",
            "=================================================================\n",
            "Total params: 149 (596.00 Byte)\n",
            "Trainable params: 149 (596.00 Byte)\n",
            "Non-trainable params: 0 (0.00 Byte)\n",
            "_________________________________________________________________\n"
          ]
        }
      ]
    },
    {
      "cell_type": "code",
      "source": [
        "# Compile model\n",
        "model.compile(optimizer=Adam(learning_rate=0.001),\n",
        "              loss='categorical_crossentropy',\n",
        "              metrics=['accuracy'])\n",
        "\n",
        "# Early stopping\n",
        "early_stopping = EarlyStopping(monitor='val_loss', patience=10, restore_best_weights=True)\n",
        "\n",
        "# Melatih model\n",
        "history = model.fit(\n",
        "    X_train_scaled, y_train_encoded,\n",
        "    epochs=100,\n",
        "    batch_size=32,\n",
        "    validation_split=0.2,\n",
        "    callbacks=[early_stopping],\n",
        "    verbose=1\n",
        ")"
      ],
      "metadata": {
        "colab": {
          "base_uri": "https://localhost:8080/"
        },
        "id": "ZSooH7MP0bp6",
        "outputId": "dfbadbdf-1f00-4c09-e17a-dd6ce8fe7486"
      },
      "execution_count": null,
      "outputs": [
        {
          "output_type": "stream",
          "name": "stdout",
          "text": [
            "Epoch 1/100\n",
            "100/100 [==============================] - 2s 7ms/step - loss: 1.4399 - accuracy: 0.3869 - val_loss: 1.1061 - val_accuracy: 0.7625\n",
            "Epoch 2/100\n",
            "100/100 [==============================] - 0s 3ms/step - loss: 0.8491 - accuracy: 0.8544 - val_loss: 0.6149 - val_accuracy: 0.9600\n",
            "Epoch 3/100\n",
            "100/100 [==============================] - 0s 4ms/step - loss: 0.4655 - accuracy: 0.9803 - val_loss: 0.3408 - val_accuracy: 0.9862\n",
            "Epoch 4/100\n",
            "100/100 [==============================] - 0s 3ms/step - loss: 0.2703 - accuracy: 0.9894 - val_loss: 0.2087 - val_accuracy: 0.9862\n",
            "Epoch 5/100\n",
            "100/100 [==============================] - 0s 2ms/step - loss: 0.1754 - accuracy: 0.9900 - val_loss: 0.1428 - val_accuracy: 0.9825\n",
            "Epoch 6/100\n",
            "100/100 [==============================] - 0s 2ms/step - loss: 0.1258 - accuracy: 0.9891 - val_loss: 0.1064 - val_accuracy: 0.9825\n",
            "Epoch 7/100\n",
            "100/100 [==============================] - 0s 3ms/step - loss: 0.0974 - accuracy: 0.9894 - val_loss: 0.0846 - val_accuracy: 0.9825\n",
            "Epoch 8/100\n",
            "100/100 [==============================] - 0s 2ms/step - loss: 0.0796 - accuracy: 0.9894 - val_loss: 0.0704 - val_accuracy: 0.9825\n",
            "Epoch 9/100\n",
            "100/100 [==============================] - 0s 3ms/step - loss: 0.0679 - accuracy: 0.9894 - val_loss: 0.0606 - val_accuracy: 0.9837\n",
            "Epoch 10/100\n",
            "100/100 [==============================] - 0s 3ms/step - loss: 0.0597 - accuracy: 0.9894 - val_loss: 0.0537 - val_accuracy: 0.9837\n",
            "Epoch 11/100\n",
            "100/100 [==============================] - 0s 3ms/step - loss: 0.0535 - accuracy: 0.9887 - val_loss: 0.0486 - val_accuracy: 0.9862\n",
            "Epoch 12/100\n",
            "100/100 [==============================] - 0s 3ms/step - loss: 0.0492 - accuracy: 0.9897 - val_loss: 0.0445 - val_accuracy: 0.9837\n",
            "Epoch 13/100\n",
            "100/100 [==============================] - 0s 2ms/step - loss: 0.0456 - accuracy: 0.9891 - val_loss: 0.0413 - val_accuracy: 0.9862\n",
            "Epoch 14/100\n",
            "100/100 [==============================] - 0s 2ms/step - loss: 0.0429 - accuracy: 0.9894 - val_loss: 0.0387 - val_accuracy: 0.9850\n",
            "Epoch 15/100\n",
            "100/100 [==============================] - 0s 2ms/step - loss: 0.0404 - accuracy: 0.9894 - val_loss: 0.0366 - val_accuracy: 0.9875\n",
            "Epoch 16/100\n",
            "100/100 [==============================] - 0s 2ms/step - loss: 0.0383 - accuracy: 0.9900 - val_loss: 0.0347 - val_accuracy: 0.9875\n",
            "Epoch 17/100\n",
            "100/100 [==============================] - 0s 2ms/step - loss: 0.0367 - accuracy: 0.9897 - val_loss: 0.0334 - val_accuracy: 0.9875\n",
            "Epoch 18/100\n",
            "100/100 [==============================] - 0s 2ms/step - loss: 0.0354 - accuracy: 0.9894 - val_loss: 0.0318 - val_accuracy: 0.9875\n",
            "Epoch 19/100\n",
            "100/100 [==============================] - 0s 2ms/step - loss: 0.0340 - accuracy: 0.9903 - val_loss: 0.0304 - val_accuracy: 0.9900\n",
            "Epoch 20/100\n",
            "100/100 [==============================] - 0s 3ms/step - loss: 0.0326 - accuracy: 0.9903 - val_loss: 0.0294 - val_accuracy: 0.9900\n",
            "Epoch 21/100\n",
            "100/100 [==============================] - 0s 2ms/step - loss: 0.0315 - accuracy: 0.9903 - val_loss: 0.0283 - val_accuracy: 0.9900\n",
            "Epoch 22/100\n",
            "100/100 [==============================] - 0s 2ms/step - loss: 0.0306 - accuracy: 0.9909 - val_loss: 0.0274 - val_accuracy: 0.9900\n",
            "Epoch 23/100\n",
            "100/100 [==============================] - 0s 2ms/step - loss: 0.0298 - accuracy: 0.9909 - val_loss: 0.0269 - val_accuracy: 0.9900\n",
            "Epoch 24/100\n",
            "100/100 [==============================] - 0s 3ms/step - loss: 0.0287 - accuracy: 0.9916 - val_loss: 0.0259 - val_accuracy: 0.9900\n",
            "Epoch 25/100\n",
            "100/100 [==============================] - 0s 2ms/step - loss: 0.0280 - accuracy: 0.9912 - val_loss: 0.0251 - val_accuracy: 0.9912\n",
            "Epoch 26/100\n",
            "100/100 [==============================] - 0s 2ms/step - loss: 0.0273 - accuracy: 0.9916 - val_loss: 0.0249 - val_accuracy: 0.9900\n",
            "Epoch 27/100\n",
            "100/100 [==============================] - 0s 2ms/step - loss: 0.0266 - accuracy: 0.9922 - val_loss: 0.0239 - val_accuracy: 0.9912\n",
            "Epoch 28/100\n",
            "100/100 [==============================] - 0s 3ms/step - loss: 0.0259 - accuracy: 0.9919 - val_loss: 0.0232 - val_accuracy: 0.9912\n",
            "Epoch 29/100\n",
            "100/100 [==============================] - 0s 2ms/step - loss: 0.0252 - accuracy: 0.9922 - val_loss: 0.0227 - val_accuracy: 0.9912\n",
            "Epoch 30/100\n",
            "100/100 [==============================] - 0s 2ms/step - loss: 0.0246 - accuracy: 0.9925 - val_loss: 0.0222 - val_accuracy: 0.9912\n",
            "Epoch 31/100\n",
            "100/100 [==============================] - 0s 3ms/step - loss: 0.0239 - accuracy: 0.9925 - val_loss: 0.0220 - val_accuracy: 0.9912\n",
            "Epoch 32/100\n",
            "100/100 [==============================] - 0s 2ms/step - loss: 0.0235 - accuracy: 0.9928 - val_loss: 0.0213 - val_accuracy: 0.9912\n",
            "Epoch 33/100\n",
            "100/100 [==============================] - 0s 3ms/step - loss: 0.0229 - accuracy: 0.9931 - val_loss: 0.0209 - val_accuracy: 0.9912\n",
            "Epoch 34/100\n",
            "100/100 [==============================] - 0s 2ms/step - loss: 0.0225 - accuracy: 0.9928 - val_loss: 0.0205 - val_accuracy: 0.9912\n",
            "Epoch 35/100\n",
            "100/100 [==============================] - 0s 3ms/step - loss: 0.0218 - accuracy: 0.9937 - val_loss: 0.0202 - val_accuracy: 0.9925\n",
            "Epoch 36/100\n",
            "100/100 [==============================] - 0s 2ms/step - loss: 0.0214 - accuracy: 0.9931 - val_loss: 0.0198 - val_accuracy: 0.9925\n",
            "Epoch 37/100\n",
            "100/100 [==============================] - 0s 3ms/step - loss: 0.0209 - accuracy: 0.9928 - val_loss: 0.0200 - val_accuracy: 0.9925\n",
            "Epoch 38/100\n",
            "100/100 [==============================] - 0s 3ms/step - loss: 0.0204 - accuracy: 0.9934 - val_loss: 0.0191 - val_accuracy: 0.9925\n",
            "Epoch 39/100\n",
            "100/100 [==============================] - 0s 2ms/step - loss: 0.0200 - accuracy: 0.9937 - val_loss: 0.0198 - val_accuracy: 0.9925\n",
            "Epoch 40/100\n",
            "100/100 [==============================] - 0s 2ms/step - loss: 0.0199 - accuracy: 0.9934 - val_loss: 0.0187 - val_accuracy: 0.9925\n",
            "Epoch 41/100\n",
            "100/100 [==============================] - 0s 2ms/step - loss: 0.0194 - accuracy: 0.9944 - val_loss: 0.0185 - val_accuracy: 0.9925\n",
            "Epoch 42/100\n",
            "100/100 [==============================] - 0s 2ms/step - loss: 0.0191 - accuracy: 0.9941 - val_loss: 0.0180 - val_accuracy: 0.9925\n",
            "Epoch 43/100\n",
            "100/100 [==============================] - 0s 2ms/step - loss: 0.0187 - accuracy: 0.9944 - val_loss: 0.0178 - val_accuracy: 0.9925\n",
            "Epoch 44/100\n",
            "100/100 [==============================] - 0s 2ms/step - loss: 0.0184 - accuracy: 0.9944 - val_loss: 0.0177 - val_accuracy: 0.9925\n",
            "Epoch 45/100\n",
            "100/100 [==============================] - 0s 4ms/step - loss: 0.0180 - accuracy: 0.9944 - val_loss: 0.0175 - val_accuracy: 0.9925\n",
            "Epoch 46/100\n",
            "100/100 [==============================] - 0s 4ms/step - loss: 0.0178 - accuracy: 0.9947 - val_loss: 0.0175 - val_accuracy: 0.9925\n",
            "Epoch 47/100\n",
            "100/100 [==============================] - 0s 4ms/step - loss: 0.0175 - accuracy: 0.9941 - val_loss: 0.0174 - val_accuracy: 0.9925\n",
            "Epoch 48/100\n",
            "100/100 [==============================] - 0s 3ms/step - loss: 0.0174 - accuracy: 0.9944 - val_loss: 0.0168 - val_accuracy: 0.9937\n",
            "Epoch 49/100\n",
            "100/100 [==============================] - 0s 4ms/step - loss: 0.0169 - accuracy: 0.9944 - val_loss: 0.0173 - val_accuracy: 0.9925\n",
            "Epoch 50/100\n",
            "100/100 [==============================] - 0s 4ms/step - loss: 0.0169 - accuracy: 0.9944 - val_loss: 0.0169 - val_accuracy: 0.9925\n",
            "Epoch 51/100\n",
            "100/100 [==============================] - 0s 4ms/step - loss: 0.0165 - accuracy: 0.9944 - val_loss: 0.0168 - val_accuracy: 0.9925\n",
            "Epoch 52/100\n",
            "100/100 [==============================] - 0s 4ms/step - loss: 0.0161 - accuracy: 0.9944 - val_loss: 0.0164 - val_accuracy: 0.9937\n",
            "Epoch 53/100\n",
            "100/100 [==============================] - 0s 3ms/step - loss: 0.0161 - accuracy: 0.9944 - val_loss: 0.0161 - val_accuracy: 0.9950\n",
            "Epoch 54/100\n",
            "100/100 [==============================] - 0s 3ms/step - loss: 0.0159 - accuracy: 0.9947 - val_loss: 0.0165 - val_accuracy: 0.9937\n",
            "Epoch 55/100\n",
            "100/100 [==============================] - 0s 2ms/step - loss: 0.0156 - accuracy: 0.9944 - val_loss: 0.0164 - val_accuracy: 0.9937\n",
            "Epoch 56/100\n",
            "100/100 [==============================] - 0s 3ms/step - loss: 0.0155 - accuracy: 0.9947 - val_loss: 0.0160 - val_accuracy: 0.9950\n",
            "Epoch 57/100\n",
            "100/100 [==============================] - 0s 3ms/step - loss: 0.0155 - accuracy: 0.9944 - val_loss: 0.0159 - val_accuracy: 0.9950\n",
            "Epoch 58/100\n",
            "100/100 [==============================] - 0s 2ms/step - loss: 0.0151 - accuracy: 0.9941 - val_loss: 0.0159 - val_accuracy: 0.9950\n",
            "Epoch 59/100\n",
            "100/100 [==============================] - 0s 2ms/step - loss: 0.0150 - accuracy: 0.9947 - val_loss: 0.0163 - val_accuracy: 0.9950\n",
            "Epoch 60/100\n",
            "100/100 [==============================] - 0s 3ms/step - loss: 0.0147 - accuracy: 0.9941 - val_loss: 0.0155 - val_accuracy: 0.9950\n",
            "Epoch 61/100\n",
            "100/100 [==============================] - 0s 3ms/step - loss: 0.0146 - accuracy: 0.9947 - val_loss: 0.0157 - val_accuracy: 0.9950\n",
            "Epoch 62/100\n",
            "100/100 [==============================] - 0s 2ms/step - loss: 0.0145 - accuracy: 0.9950 - val_loss: 0.0163 - val_accuracy: 0.9950\n",
            "Epoch 63/100\n",
            "100/100 [==============================] - 0s 2ms/step - loss: 0.0143 - accuracy: 0.9947 - val_loss: 0.0153 - val_accuracy: 0.9950\n",
            "Epoch 64/100\n",
            "100/100 [==============================] - 0s 2ms/step - loss: 0.0141 - accuracy: 0.9953 - val_loss: 0.0167 - val_accuracy: 0.9937\n",
            "Epoch 65/100\n",
            "100/100 [==============================] - 0s 3ms/step - loss: 0.0142 - accuracy: 0.9947 - val_loss: 0.0160 - val_accuracy: 0.9950\n",
            "Epoch 66/100\n",
            "100/100 [==============================] - 0s 2ms/step - loss: 0.0141 - accuracy: 0.9956 - val_loss: 0.0152 - val_accuracy: 0.9950\n",
            "Epoch 67/100\n",
            "100/100 [==============================] - 0s 2ms/step - loss: 0.0138 - accuracy: 0.9944 - val_loss: 0.0157 - val_accuracy: 0.9962\n",
            "Epoch 68/100\n",
            "100/100 [==============================] - 0s 2ms/step - loss: 0.0136 - accuracy: 0.9950 - val_loss: 0.0150 - val_accuracy: 0.9950\n",
            "Epoch 69/100\n",
            "100/100 [==============================] - 0s 3ms/step - loss: 0.0135 - accuracy: 0.9947 - val_loss: 0.0157 - val_accuracy: 0.9962\n",
            "Epoch 70/100\n",
            "100/100 [==============================] - 0s 2ms/step - loss: 0.0138 - accuracy: 0.9947 - val_loss: 0.0155 - val_accuracy: 0.9962\n",
            "Epoch 71/100\n",
            "100/100 [==============================] - 0s 2ms/step - loss: 0.0134 - accuracy: 0.9944 - val_loss: 0.0158 - val_accuracy: 0.9962\n",
            "Epoch 72/100\n",
            "100/100 [==============================] - 0s 2ms/step - loss: 0.0136 - accuracy: 0.9944 - val_loss: 0.0156 - val_accuracy: 0.9962\n",
            "Epoch 73/100\n",
            "100/100 [==============================] - 0s 2ms/step - loss: 0.0133 - accuracy: 0.9944 - val_loss: 0.0155 - val_accuracy: 0.9962\n",
            "Epoch 74/100\n",
            "100/100 [==============================] - 0s 2ms/step - loss: 0.0132 - accuracy: 0.9944 - val_loss: 0.0155 - val_accuracy: 0.9962\n",
            "Epoch 75/100\n",
            "100/100 [==============================] - 0s 3ms/step - loss: 0.0130 - accuracy: 0.9941 - val_loss: 0.0155 - val_accuracy: 0.9962\n",
            "Epoch 76/100\n",
            "100/100 [==============================] - 0s 3ms/step - loss: 0.0130 - accuracy: 0.9947 - val_loss: 0.0148 - val_accuracy: 0.9950\n",
            "Epoch 77/100\n",
            "100/100 [==============================] - 0s 2ms/step - loss: 0.0128 - accuracy: 0.9947 - val_loss: 0.0150 - val_accuracy: 0.9962\n",
            "Epoch 78/100\n",
            "100/100 [==============================] - 0s 2ms/step - loss: 0.0128 - accuracy: 0.9947 - val_loss: 0.0149 - val_accuracy: 0.9950\n",
            "Epoch 79/100\n",
            "100/100 [==============================] - 0s 2ms/step - loss: 0.0125 - accuracy: 0.9950 - val_loss: 0.0161 - val_accuracy: 0.9962\n",
            "Epoch 80/100\n",
            "100/100 [==============================] - 0s 3ms/step - loss: 0.0129 - accuracy: 0.9947 - val_loss: 0.0153 - val_accuracy: 0.9962\n",
            "Epoch 81/100\n",
            "100/100 [==============================] - 0s 3ms/step - loss: 0.0126 - accuracy: 0.9947 - val_loss: 0.0154 - val_accuracy: 0.9962\n",
            "Epoch 82/100\n",
            "100/100 [==============================] - 0s 3ms/step - loss: 0.0124 - accuracy: 0.9950 - val_loss: 0.0148 - val_accuracy: 0.9962\n",
            "Epoch 83/100\n",
            "100/100 [==============================] - 0s 3ms/step - loss: 0.0126 - accuracy: 0.9953 - val_loss: 0.0151 - val_accuracy: 0.9962\n",
            "Epoch 84/100\n",
            "100/100 [==============================] - 0s 3ms/step - loss: 0.0124 - accuracy: 0.9944 - val_loss: 0.0151 - val_accuracy: 0.9962\n",
            "Epoch 85/100\n",
            "100/100 [==============================] - 0s 3ms/step - loss: 0.0124 - accuracy: 0.9950 - val_loss: 0.0150 - val_accuracy: 0.9962\n",
            "Epoch 86/100\n",
            "100/100 [==============================] - 0s 2ms/step - loss: 0.0124 - accuracy: 0.9950 - val_loss: 0.0146 - val_accuracy: 0.9950\n",
            "Epoch 87/100\n",
            "100/100 [==============================] - 0s 2ms/step - loss: 0.0123 - accuracy: 0.9947 - val_loss: 0.0150 - val_accuracy: 0.9962\n",
            "Epoch 88/100\n",
            "100/100 [==============================] - 0s 3ms/step - loss: 0.0122 - accuracy: 0.9950 - val_loss: 0.0152 - val_accuracy: 0.9962\n",
            "Epoch 89/100\n",
            "100/100 [==============================] - 0s 2ms/step - loss: 0.0122 - accuracy: 0.9950 - val_loss: 0.0148 - val_accuracy: 0.9962\n",
            "Epoch 90/100\n",
            "100/100 [==============================] - 0s 3ms/step - loss: 0.0121 - accuracy: 0.9950 - val_loss: 0.0159 - val_accuracy: 0.9962\n",
            "Epoch 91/100\n",
            "100/100 [==============================] - 0s 2ms/step - loss: 0.0119 - accuracy: 0.9956 - val_loss: 0.0149 - val_accuracy: 0.9962\n",
            "Epoch 92/100\n",
            "100/100 [==============================] - 0s 3ms/step - loss: 0.0120 - accuracy: 0.9953 - val_loss: 0.0155 - val_accuracy: 0.9962\n",
            "Epoch 93/100\n",
            "100/100 [==============================] - 0s 4ms/step - loss: 0.0119 - accuracy: 0.9956 - val_loss: 0.0152 - val_accuracy: 0.9962\n",
            "Epoch 94/100\n",
            "100/100 [==============================] - 0s 3ms/step - loss: 0.0120 - accuracy: 0.9950 - val_loss: 0.0152 - val_accuracy: 0.9962\n",
            "Epoch 95/100\n",
            "100/100 [==============================] - 0s 3ms/step - loss: 0.0119 - accuracy: 0.9953 - val_loss: 0.0152 - val_accuracy: 0.9962\n",
            "Epoch 96/100\n",
            "100/100 [==============================] - 0s 3ms/step - loss: 0.0122 - accuracy: 0.9947 - val_loss: 0.0151 - val_accuracy: 0.9962\n"
          ]
        }
      ]
    },
    {
      "cell_type": "code",
      "source": [
        "# Evaluasi model\n",
        "test_loss, test_accuracy = model.evaluate(X_test_scaled, y_test_encoded)\n",
        "print(f\"Test accuracy: {test_accuracy:.4f}\")"
      ],
      "metadata": {
        "colab": {
          "base_uri": "https://localhost:8080/"
        },
        "id": "lEpT7ZI_0btW",
        "outputId": "a8bbaced-3b5a-478f-a9e5-bfa8fc5d9f0a"
      },
      "execution_count": null,
      "outputs": [
        {
          "output_type": "stream",
          "name": "stdout",
          "text": [
            "32/32 [==============================] - 0s 2ms/step - loss: 0.0112 - accuracy: 0.9960\n",
            "Test accuracy: 0.9960\n"
          ]
        }
      ]
    },
    {
      "cell_type": "code",
      "source": [
        "# Membuat prediksi\n",
        "y_pred = model.predict(X_test_scaled)\n",
        "y_pred_classes = np.argmax(y_pred, axis=1)\n",
        "y_test_classes = np.argmax(y_test_encoded, axis=1)\n",
        "\n",
        "class_names = ['Rifampisin', 'Digoxin', 'CTM', 'Simvastatin', 'Diclofenac Sodium']\n",
        "cm = confusion_matrix(y_test_classes, y_pred_classes)\n",
        "\n",
        "fig, ax = plt.subplots(figsize=(10, 8))\n",
        "disp = ConfusionMatrixDisplay(confusion_matrix=cm, display_labels=class_names)\n",
        "disp.plot(ax=ax, cmap='Blues', values_format='d')\n",
        "plt.title('Confusion Matrix')\n",
        "plt.xlabel('Prediction')\n",
        "plt.ylabel('Reference')\n",
        "plt.show()"
      ],
      "metadata": {
        "colab": {
          "base_uri": "https://localhost:8080/",
          "height": 736
        },
        "id": "Ws5VRdWlYxwx",
        "outputId": "82fa3525-5343-4291-d657-8b9bf60626e0"
      },
      "execution_count": null,
      "outputs": [
        {
          "output_type": "stream",
          "name": "stdout",
          "text": [
            "32/32 [==============================] - 0s 2ms/step\n"
          ]
        },
        {
          "output_type": "display_data",
          "data": {
            "text/plain": [
              "<Figure size 1000x800 with 2 Axes>"
            ],
            "image/png": "[encoded data removed]"
          },
          "metadata": {}
        }
      ]
    },
    {
      "cell_type": "code",
      "source": [
        "# Menghitung dan menampilkan TN, TP, FN, FP untuk setiap kelas\n",
        "n_classes = len(class_names)\n",
        "for i in range(n_classes):\n",
        "    tn = cm[np.arange(n_classes) != i, :][:, np.arange(n_classes) != i].sum()\n",
        "    tp = cm[i, i]\n",
        "    fn = cm[i, :].sum() - tp\n",
        "    fp = cm[:, i].sum() - tp\n",
        "\n",
        "    print(f\"\\nMetrics for {class_names[i]}:\")\n",
        "    print(f\"True Negatives (TN): {tn}\")\n",
        "    print(f\"True Positives (TP): {tp}\")\n",
        "    print(f\"False Negatives (FN): {fn}\")\n",
        "    print(f\"False Positives (FP): {fp}\")"
      ],
      "metadata": {
        "colab": {
          "base_uri": "https://localhost:8080/"
        },
        "id": "m2aXuPacByyG",
        "outputId": "fb48ed29-9a03-44ed-8783-6c8c0d7916d8"
      },
      "execution_count": null,
      "outputs": [
        {
          "output_type": "stream",
          "name": "stdout",
          "text": [
            "\n",
            "Metrics for Rifampisin:\n",
            "True Negatives (TN): 784\n",
            "True Positives (TP): 216\n",
            "False Negatives (FN): 0\n",
            "False Positives (FP): 0\n",
            "\n",
            "Metrics for Digoxin:\n",
            "True Negatives (TN): 809\n",
            "True Positives (TP): 187\n",
            "False Negatives (FN): 3\n",
            "False Positives (FP): 1\n",
            "\n",
            "Metrics for CTM:\n",
            "True Negatives (TN): 808\n",
            "True Positives (TP): 192\n",
            "False Negatives (FN): 0\n",
            "False Positives (FP): 0\n",
            "\n",
            "Metrics for Simvastatin:\n",
            "True Negatives (TN): 787\n",
            "True Positives (TP): 209\n",
            "False Negatives (FN): 1\n",
            "False Positives (FP): 3\n",
            "\n",
            "Metrics for Diclofenac Sodium:\n",
            "True Negatives (TN): 808\n",
            "True Positives (TP): 192\n",
            "False Negatives (FN): 0\n",
            "False Positives (FP): 0\n"
          ]
        }
      ]
    },
    {
      "cell_type": "code",
      "source": [
        "# Menampilkan classification report\n",
        "print(\"Classification Report:\")\n",
        "print(classification_report(y_test_classes, y_pred_classes, target_names=class_names))"
      ],
      "metadata": {
        "colab": {
          "base_uri": "https://localhost:8080/"
        },
        "id": "2c7au7xyB2rY",
        "outputId": "257bf139-bc16-41f5-a656-ccca55e52fa2"
      },
      "execution_count": null,
      "outputs": [
        {
          "output_type": "stream",
          "name": "stdout",
          "text": [
            "Classification Report:\n",
            "                   precision    recall  f1-score   support\n",
            "\n",
            "       Rifampisin       1.00      1.00      1.00       216\n",
            "          Digoxin       0.99      0.98      0.99       190\n",
            "              CTM       1.00      1.00      1.00       192\n",
            "      Simvastatin       0.99      1.00      0.99       210\n",
            "Diclofenac Sodium       1.00      1.00      1.00       192\n",
            "\n",
            "         accuracy                           1.00      1000\n",
            "        macro avg       1.00      1.00      1.00      1000\n",
            "     weighted avg       1.00      1.00      1.00      1000\n",
            "\n"
          ]
        }
      ]
    },
    {
      "cell_type": "code",
      "source": [
        "# Plot history pelatihan\n",
        "def plot_training_history(history):\n",
        "    fig, (ax1, ax2) = plt.subplots(1, 2, figsize=(15, 5))\n",
        "\n",
        "    # Plot training & validation accuracy values\n",
        "    ax1.plot(history.history['accuracy'])\n",
        "    ax1.plot(history.history['val_accuracy'])\n",
        "    ax1.set_title('Model accuracy')\n",
        "    ax1.set_ylabel('Accuracy')\n",
        "    ax1.set_xlabel('Epoch')\n",
        "    ax1.legend(['Train', 'Validation'], loc='lower right')\n",
        "\n",
        "    # Plot training & validation loss values\n",
        "    ax2.plot(history.history['loss'])\n",
        "    ax2.plot(history.history['val_loss'])\n",
        "    ax2.set_title('Model loss')\n",
        "    ax2.set_ylabel('Loss')\n",
        "    ax2.set_xlabel('Epoch')\n",
        "    ax2.legend(['Train', 'Validation'], loc='upper right')\n",
        "\n",
        "    plt.tight_layout()\n",
        "    plt.show()\n",
        "\n",
        "plot_training_history(history)"
      ],
      "metadata": {
        "colab": {
          "base_uri": "https://localhost:8080/",
          "height": 507
        },
        "id": "TXrgcxbibOf2",
        "outputId": "45ee4954-c791-4f4e-89c4-24cbaff136a2"
      },
      "execution_count": null,
      "outputs": [
        {
          "output_type": "display_data",
          "data": {
            "text/plain": [
              "<Figure size 1500x500 with 2 Axes>"
            ],
            "image/png": "[encoded data removed]"
          },
          "metadata": {}
        }
      ]
    },
    {
      "cell_type": "markdown",
      "source": [
        "**Menyimpan Model & Uji Coba Prediksi**"
      ],
      "metadata": {
        "id": "f7Y50tYgJwL7"
      }
    },
    {
      "cell_type": "code",
      "source": [
        "# Import libraries yang diperlukan\n",
        "import os\n",
        "import numpy as np\n",
        "import tensorflow as tf\n",
        "from tensorflow.keras.models import load_model\n",
        "import joblib"
      ],
      "metadata": {
        "id": "knnG74gUbTSH"
      },
      "execution_count": null,
      "outputs": []
    },
    {
      "cell_type": "code",
      "source": [
        "# Menyimpan model\n",
        "model_name = \"model_obat5\"\n",
        "save_dir = \"/content/\"\n",
        "model_path = os.path.join(save_dir, f\"{model_name}.h5\")\n",
        "model.save(model_path)\n",
        "print(f\"Model saved to {model_path}\")"
      ],
      "metadata": {
        "colab": {
          "base_uri": "https://localhost:8080/"
        },
        "id": "9WlIMsllraSp",
        "outputId": "d654d93b-76d8-42df-9ac1-88e9d7af6efa"
      },
      "execution_count": null,
      "outputs": [
        {
          "output_type": "stream",
          "name": "stdout",
          "text": [
            "Model saved to /content/model_obat5b.h5\n"
          ]
        },
        {
          "output_type": "stream",
          "name": "stderr",
          "text": [
            "<ipython-input-17-c8d776d052f4>:7: UserWarning: You are saving your model as an HDF5 file via `model.save()`. This file format is considered legacy. We recommend using instead the native Keras format, e.g. `model.save('my_model.keras')`.\n",
            "  tf.keras.models.save_model(\n"
          ]
        }
      ]
    },
    {
      "cell_type": "code",
      "source": [
        "# Menyimpan scaler\n",
        "scaler_filename = \"/content/scaler_obat5.save\"\n",
        "joblib.dump(scaler, scaler_filename)\n",
        "print(f\"Scaler saved to {scaler_filename}\")"
      ],
      "metadata": {
        "colab": {
          "base_uri": "https://localhost:8080/"
        },
        "id": "JHEuzpnIyPgK",
        "outputId": "7f6f2803-be6a-4fee-9168-c59b0be51706"
      },
      "execution_count": null,
      "outputs": [
        {
          "output_type": "stream",
          "name": "stdout",
          "text": [
            "Scaler saved to /content/scaler_obat5b.save\n"
          ]
        }
      ]
    },
    {
      "cell_type": "code",
      "source": [
        "# Memuat model yang telah disimpan\n",
        "loaded_model = load_model('/content/model_obat5.h5')\n",
        "\n",
        "# Memuat scaler\n",
        "scaler_filename = \"/content/scaler_obat5.save\"\n",
        "scaler = joblib.load(scaler_filename)"
      ],
      "metadata": {
        "id": "60mYXRJbxn3s"
      },
      "execution_count": null,
      "outputs": []
    },
    {
      "cell_type": "code",
      "source": [
        "# Data spektrum yang akan diuji (pastikan jumlah fitur cocok dengan model)\n",
        "sample_spectrum = np.array([[0.000375909963270948, 0.577818708380709, 0.534319805520911, 0.142955510870815, 0.717543945121563, 0.038442050027585]])\n",
        "\n",
        "# Standarisasi sample_spectrum menggunakan scaler yang dimuat\n",
        "sample_spectrum_scaled = scaler.transform(sample_spectrum)\n",
        "\n",
        "# Nama-nama polutan yang ingin diprediksi\n",
        "pollutant_names = ['Rifampisin', 'Digoxin', 'CTM', 'Simvastatin', 'Diclofenac Sodium']\n",
        "\n",
        "# Melakukan prediksi dengan model yang telah dimuat\n",
        "prediction = loaded_model.predict(sample_spectrum_scaled)\n",
        "predicted_class = np.argmax(prediction[0])\n",
        "confidence = prediction[0][predicted_class]"
      ],
      "metadata": {
        "colab": {
          "base_uri": "https://localhost:8080/"
        },
        "id": "_YNtNyJf0D9v",
        "outputId": "435134ba-a714-425b-da6e-f5cd8118e93b"
      },
      "execution_count": null,
      "outputs": [
        {
          "output_type": "stream",
          "name": "stdout",
          "text": [
            "1/1 [==============================] - 0s 76ms/step\n"
          ]
        }
      ]
    },
    {
      "cell_type": "code",
      "source": [
        "# Menampilkan hasil prediksi\n",
        "print(\"Prediction Result:\")\n",
        "print(f\"Detected Pollutant: {pollutant_names[predicted_class]}\")\n",
        "print(f\"Confidence: {confidence:.2f}\")"
      ],
      "metadata": {
        "colab": {
          "base_uri": "https://localhost:8080/"
        },
        "id": "pGhwLGYUypWs",
        "outputId": "6bee2313-f7f6-45f9-ab11-5fbdbcb8cf16"
      },
      "execution_count": null,
      "outputs": [
        {
          "output_type": "stream",
          "name": "stdout",
          "text": [
            "Prediction Result:\n",
            "Detected Pollutant: Simvastatin\n",
            "Confidence: 1.00\n"
          ]
        }
      ]
    },
    {
      "cell_type": "code",
      "source": [
        "# Menampilkan probabilitas untuk semua kelas\n",
        "print(\"Probabilities for all classes:\")\n",
        "for name, prob in zip(pollutant_names, prediction[0]):\n",
        "    print(f\"{name}: {prob:.4f}\")"
      ],
      "metadata": {
        "colab": {
          "base_uri": "https://localhost:8080/"
        },
        "id": "fp9_7qwUyqBY",
        "outputId": "1bf0bd3c-3bd1-4aa9-d01c-2229d7c44fc8"
      },
      "execution_count": null,
      "outputs": [
        {
          "output_type": "stream",
          "name": "stdout",
          "text": [
            "Probabilities for all classes:\n",
            "Rifampisin: 0.0000\n",
            "Digoxin: 0.0002\n",
            "CTM: 0.0000\n",
            "Simvastatin: 0.9998\n",
            "Diclofenac Sodium: 0.0000\n"
          ]
        }
      ]
    }
  ]
}